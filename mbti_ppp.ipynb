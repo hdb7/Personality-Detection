{
 "cells": [
  {
   "cell_type": "code",
   "execution_count": 19,
   "id": "3d50fd90",
   "metadata": {},
   "outputs": [],
   "source": [
    "import numpy as np\n",
    "import pandas as pd\n",
    "import matplotlib.pyplot as plt\n",
    "import nltk\n",
    "import string\n",
    "import seaborn as sns"
   ]
  },
  {
   "cell_type": "code",
   "execution_count": 20,
   "id": "f4818c0b",
   "metadata": {},
   "outputs": [],
   "source": [
    "#ref\n",
    "# https://github.com/sailesh307/Personality-Prediction-Using-MBTI/blob/main/Personality_Prediction_Project.ipynb\n",
    "# https://github.com/TGDivy/MBTI-Personality-Classifier/blob/master/MBTI%20personality%20classifier.ipynb"
   ]
  },
  {
   "cell_type": "code",
   "execution_count": 21,
   "id": "52914cad",
   "metadata": {},
   "outputs": [
    {
     "data": {
      "text/html": [
       "<div>\n",
       "<style scoped>\n",
       "    .dataframe tbody tr th:only-of-type {\n",
       "        vertical-align: middle;\n",
       "    }\n",
       "\n",
       "    .dataframe tbody tr th {\n",
       "        vertical-align: top;\n",
       "    }\n",
       "\n",
       "    .dataframe thead th {\n",
       "        text-align: right;\n",
       "    }\n",
       "</style>\n",
       "<table border=\"1\" class=\"dataframe\">\n",
       "  <thead>\n",
       "    <tr style=\"text-align: right;\">\n",
       "      <th></th>\n",
       "      <th>type</th>\n",
       "      <th>posts</th>\n",
       "    </tr>\n",
       "  </thead>\n",
       "  <tbody>\n",
       "    <tr>\n",
       "      <th>0</th>\n",
       "      <td>INFJ</td>\n",
       "      <td>'http://www.youtube.com/watch?v=qsXHcwe3krw|||...</td>\n",
       "    </tr>\n",
       "    <tr>\n",
       "      <th>1</th>\n",
       "      <td>ENTP</td>\n",
       "      <td>'I'm finding the lack of me in these posts ver...</td>\n",
       "    </tr>\n",
       "    <tr>\n",
       "      <th>2</th>\n",
       "      <td>INTP</td>\n",
       "      <td>'Good one  _____   https://www.youtube.com/wat...</td>\n",
       "    </tr>\n",
       "    <tr>\n",
       "      <th>3</th>\n",
       "      <td>INTJ</td>\n",
       "      <td>'Dear INTP,   I enjoyed our conversation the o...</td>\n",
       "    </tr>\n",
       "    <tr>\n",
       "      <th>4</th>\n",
       "      <td>ENTJ</td>\n",
       "      <td>'You're fired.|||That's another silly misconce...</td>\n",
       "    </tr>\n",
       "  </tbody>\n",
       "</table>\n",
       "</div>"
      ],
      "text/plain": [
       "   type                                              posts\n",
       "0  INFJ  'http://www.youtube.com/watch?v=qsXHcwe3krw|||...\n",
       "1  ENTP  'I'm finding the lack of me in these posts ver...\n",
       "2  INTP  'Good one  _____   https://www.youtube.com/wat...\n",
       "3  INTJ  'Dear INTP,   I enjoyed our conversation the o...\n",
       "4  ENTJ  'You're fired.|||That's another silly misconce..."
      ]
     },
     "execution_count": 21,
     "metadata": {},
     "output_type": "execute_result"
    }
   ],
   "source": [
    "#import all the datasets\n",
    "dataset = pd.read_csv(\"mbti_1.csv\")\n",
    "dataset.head()"
   ]
  },
  {
   "cell_type": "code",
   "execution_count": 22,
   "id": "d5213d1a",
   "metadata": {},
   "outputs": [
    {
     "data": {
      "text/html": [
       "<div>\n",
       "<style scoped>\n",
       "    .dataframe tbody tr th:only-of-type {\n",
       "        vertical-align: middle;\n",
       "    }\n",
       "\n",
       "    .dataframe tbody tr th {\n",
       "        vertical-align: top;\n",
       "    }\n",
       "\n",
       "    .dataframe thead th {\n",
       "        text-align: right;\n",
       "    }\n",
       "</style>\n",
       "<table border=\"1\" class=\"dataframe\">\n",
       "  <thead>\n",
       "    <tr style=\"text-align: right;\">\n",
       "      <th></th>\n",
       "      <th>type</th>\n",
       "      <th>posts</th>\n",
       "    </tr>\n",
       "  </thead>\n",
       "  <tbody>\n",
       "    <tr>\n",
       "      <th>8670</th>\n",
       "      <td>ISFP</td>\n",
       "      <td>'https://www.youtube.com/watch?v=t8edHB_h908||...</td>\n",
       "    </tr>\n",
       "    <tr>\n",
       "      <th>8671</th>\n",
       "      <td>ENFP</td>\n",
       "      <td>'So...if this thread already exists someplace ...</td>\n",
       "    </tr>\n",
       "    <tr>\n",
       "      <th>8672</th>\n",
       "      <td>INTP</td>\n",
       "      <td>'So many questions when i do these things.  I ...</td>\n",
       "    </tr>\n",
       "    <tr>\n",
       "      <th>8673</th>\n",
       "      <td>INFP</td>\n",
       "      <td>'I am very conflicted right now when it comes ...</td>\n",
       "    </tr>\n",
       "    <tr>\n",
       "      <th>8674</th>\n",
       "      <td>INFP</td>\n",
       "      <td>'It has been too long since I have been on per...</td>\n",
       "    </tr>\n",
       "  </tbody>\n",
       "</table>\n",
       "</div>"
      ],
      "text/plain": [
       "      type                                              posts\n",
       "8670  ISFP  'https://www.youtube.com/watch?v=t8edHB_h908||...\n",
       "8671  ENFP  'So...if this thread already exists someplace ...\n",
       "8672  INTP  'So many questions when i do these things.  I ...\n",
       "8673  INFP  'I am very conflicted right now when it comes ...\n",
       "8674  INFP  'It has been too long since I have been on per..."
      ]
     },
     "execution_count": 22,
     "metadata": {},
     "output_type": "execute_result"
    }
   ],
   "source": [
    "dataset.tail()"
   ]
  },
  {
   "cell_type": "code",
   "execution_count": 23,
   "id": "14a56b46",
   "metadata": {},
   "outputs": [
    {
     "data": {
      "text/plain": [
       "type     False\n",
       "posts    False\n",
       "dtype: bool"
      ]
     },
     "execution_count": 23,
     "metadata": {},
     "output_type": "execute_result"
    }
   ],
   "source": [
    "#check for missing values\n",
    "dataset.isnull().any()"
   ]
  },
  {
   "cell_type": "code",
   "execution_count": 11,
   "id": "ba46f1bf",
   "metadata": {},
   "outputs": [
    {
     "data": {
      "text/plain": [
       "(8675, 2)"
      ]
     },
     "execution_count": 11,
     "metadata": {},
     "output_type": "execute_result"
    }
   ],
   "source": [
    "dataset.shape # cols, rows"
   ]
  },
  {
   "cell_type": "code",
   "execution_count": 13,
   "id": "9a363679",
   "metadata": {},
   "outputs": [],
   "source": [
    "#nds = dataset.iloc[0,1].split('|||')"
   ]
  },
  {
   "cell_type": "code",
   "execution_count": 14,
   "id": "8e972ee1",
   "metadata": {},
   "outputs": [],
   "source": [
    "#df = pd.DataFrame(nds)"
   ]
  },
  {
   "cell_type": "code",
   "execution_count": 12,
   "id": "8aae009f",
   "metadata": {},
   "outputs": [
    {
     "data": {
      "text/plain": [
       "type     8675\n",
       "posts    8675\n",
       "dtype: int64"
      ]
     },
     "execution_count": 12,
     "metadata": {},
     "output_type": "execute_result"
    }
   ],
   "source": [
    "#df\n",
    "dataset.count()"
   ]
  },
  {
   "cell_type": "code",
   "execution_count": 17,
   "id": "dc7b1e72",
   "metadata": {},
   "outputs": [
    {
     "data": {
      "text/plain": [
       "[\"'http://www.youtube.com/watch?v=qsXHcwe3krw\",\n",
       " 'http://41.media.tumblr.com/tumblr_lfouy03PMA1qa1rooo1_500.jpg',\n",
       " 'enfp and intj moments  https://www.youtube.com/watch?v=iz7lE1g4XM4  sportscenter not top ten plays  https://www.youtube.com/watch?v=uCdfze1etec  pranks',\n",
       " 'What has been the most life-changing experience in your life?',\n",
       " 'http://www.youtube.com/watch?v=vXZeYwwRDw8   http://www.youtube.com/watch?v=u8ejam5DP3E  On repeat for most of today.',\n",
       " 'May the PerC Experience immerse you.',\n",
       " 'The last thing my INFJ friend posted on his facebook before committing suicide the next day. Rest in peace~   http://vimeo.com/22842206',\n",
       " \"Hello ENFJ7. Sorry to hear of your distress. It's only natural for a relationship to not be perfection all the time in every moment of existence. Try to figure the hard times as times of growth, as...\",\n",
       " '84389  84390  http://wallpaperpassion.com/upload/23700/friendship-boy-and-girl-wallpaper.jpg  http://assets.dornob.com/wp-content/uploads/2010/04/round-home-design.jpg ...',\n",
       " 'Welcome and stuff.',\n",
       " 'http://playeressence.com/wp-content/uploads/2013/08/RED-red-the-pokemon-master-32560474-450-338.jpg  Game. Set. Match.',\n",
       " \"Prozac, wellbrutin, at least thirty minutes of moving your legs (and I don't mean moving them while sitting in your same desk chair), weed in moderation (maybe try edibles as a healthier alternative...\",\n",
       " \"Basically come up with three items you've determined that each type (or whichever types you want to do) would more than likely use, given each types' cognitive functions and whatnot, when left by...\",\n",
       " 'All things in moderation.  Sims is indeed a video game, and a good one at that. Note: a good one at that is somewhat subjective in that I am not completely promoting the death of any given Sim...',\n",
       " 'Dear ENFP:  What were your favorite video games growing up and what are your now, current favorite video games? :cool:',\n",
       " 'https://www.youtube.com/watch?v=QyPqT8umzmY',\n",
       " 'It appears to be too late. :sad:',\n",
       " \"There's someone out there for everyone.\",\n",
       " 'Wait... I thought confidence was a good thing.',\n",
       " \"I just cherish the time of solitude b/c i revel within my inner world more whereas most other time i'd be workin... just enjoy the me time while you can. Don't worry, people will always be around to...\",\n",
       " \"Yo entp ladies... if you're into a complimentary personality,well, hey.\",\n",
       " '... when your main social outlet is xbox live conversations and even then you verbally fatigue quickly.',\n",
       " 'http://www.youtube.com/watch?v=gDhy7rdfm14  I really dig the part from 1:46 to 2:50',\n",
       " 'http://www.youtube.com/watch?v=msqXffgh7b8',\n",
       " 'Banned because this thread requires it of me.',\n",
       " 'Get high in backyard, roast and eat marshmellows in backyard while conversing over something intellectual, followed by massages and kisses.',\n",
       " 'http://www.youtube.com/watch?v=Mw7eoU3BMbE',\n",
       " 'http://www.youtube.com/watch?v=4V2uYORhQOk',\n",
       " 'http://www.youtube.com/watch?v=SlVmgFQQ0TI',\n",
       " \"Banned for too many b's in that sentence. How could you! Think of the B!\",\n",
       " 'Banned for watching movies in the corner with the dunces.',\n",
       " 'Banned because Health class clearly taught you nothing about peer pressure.',\n",
       " 'Banned for a whole host of reasons!',\n",
       " 'http://www.youtube.com/watch?v=IRcrv41hgz4',\n",
       " \"1) Two baby deer on left and right munching on a beetle in the middle.  2) Using their own blood, two cavemen diary today's latest happenings on their designated cave diary wall.  3) I see it as...\",\n",
       " 'a pokemon world  an infj society  everyone becomes an optimist',\n",
       " '49142',\n",
       " 'http://www.youtube.com/watch?v=ZRCEq_JFeFM',\n",
       " 'http://discovermagazine.com/2012/jul-aug/20-things-you-didnt-know-about-deserts/desert.jpg',\n",
       " 'http://oyster.ignimgs.com/mediawiki/apis.ign.com/pokemon-silver-version/d/dd/Ditto.gif',\n",
       " 'http://www.serebii.net/potw-dp/Scizor.jpg',\n",
       " \"Not all artists are artists because they draw. It's the idea that counts in forming something of your own... like a signature.\",\n",
       " \"Welcome to the robot ranks, person who downed my self-esteem cuz I'm not an avid signature artist like herself. :proud:\",\n",
       " 'Banned for taking all the room under my bed. Ya gotta learn to share with the roaches.',\n",
       " 'http://www.youtube.com/watch?v=w8IgImn57aQ',\n",
       " 'Banned for being too much of a thundering, grumbling kind of storm... yep.',\n",
       " \"Ahh... old high school music I haven't heard in ages.   http://www.youtube.com/watch?v=dcCRUPCdB1w\",\n",
       " \"I failed a public speaking class a few years ago and I've sort of learned what I could do better were I to be in that position again. A big part of my failure was just overloading myself with too...\",\n",
       " \"I like this person's mentality. He's a confirmed INTJ by the way. http://www.youtube.com/watch?v=hGKLI-GEc6M\",\n",
       " \"Move to the Denver area and start a new life for myself.'\"]"
      ]
     },
     "execution_count": 17,
     "metadata": {},
     "output_type": "execute_result"
    }
   ],
   "source": [
    "dataset.iloc[0,1].split('|||')"
   ]
  },
  {
   "cell_type": "code",
   "execution_count": 20,
   "id": "3eeeb057",
   "metadata": {},
   "outputs": [],
   "source": [
    "ptypes = np.unique(np.array(dataset['type']))"
   ]
  },
  {
   "cell_type": "code",
   "execution_count": 21,
   "id": "904e1575",
   "metadata": {},
   "outputs": [
    {
     "data": {
      "text/plain": [
       "array(['ENFJ', 'ENFP', 'ENTJ', 'ENTP', 'ESFJ', 'ESFP', 'ESTJ', 'ESTP',\n",
       "       'INFJ', 'INFP', 'INTJ', 'INTP', 'ISFJ', 'ISFP', 'ISTJ', 'ISTP'],\n",
       "      dtype=object)"
      ]
     },
     "execution_count": 21,
     "metadata": {},
     "output_type": "execute_result"
    }
   ],
   "source": [
    "ptypes"
   ]
  },
  {
   "cell_type": "code",
   "execution_count": 29,
   "id": "5397c69b",
   "metadata": {},
   "outputs": [],
   "source": [
    "nPost = len(dataset.iloc[0,1].split('|||'))"
   ]
  },
  {
   "cell_type": "code",
   "execution_count": 30,
   "id": "76c9b2ff",
   "metadata": {},
   "outputs": [],
   "source": [
    "total_post = dataset.groupby(['type']).count()*nPost"
   ]
  },
  {
   "cell_type": "code",
   "execution_count": 32,
   "id": "c7e5ec37",
   "metadata": {},
   "outputs": [
    {
     "data": {
      "text/html": [
       "<div>\n",
       "<style scoped>\n",
       "    .dataframe tbody tr th:only-of-type {\n",
       "        vertical-align: middle;\n",
       "    }\n",
       "\n",
       "    .dataframe tbody tr th {\n",
       "        vertical-align: top;\n",
       "    }\n",
       "\n",
       "    .dataframe thead th {\n",
       "        text-align: right;\n",
       "    }\n",
       "</style>\n",
       "<table border=\"1\" class=\"dataframe\">\n",
       "  <thead>\n",
       "    <tr style=\"text-align: right;\">\n",
       "      <th></th>\n",
       "      <th>posts</th>\n",
       "    </tr>\n",
       "    <tr>\n",
       "      <th>type</th>\n",
       "      <th></th>\n",
       "    </tr>\n",
       "  </thead>\n",
       "  <tbody>\n",
       "    <tr>\n",
       "      <th>ENFJ</th>\n",
       "      <td>9500</td>\n",
       "    </tr>\n",
       "    <tr>\n",
       "      <th>ENFP</th>\n",
       "      <td>33750</td>\n",
       "    </tr>\n",
       "    <tr>\n",
       "      <th>ENTJ</th>\n",
       "      <td>11550</td>\n",
       "    </tr>\n",
       "    <tr>\n",
       "      <th>ENTP</th>\n",
       "      <td>34250</td>\n",
       "    </tr>\n",
       "    <tr>\n",
       "      <th>ESFJ</th>\n",
       "      <td>2100</td>\n",
       "    </tr>\n",
       "    <tr>\n",
       "      <th>ESFP</th>\n",
       "      <td>2400</td>\n",
       "    </tr>\n",
       "    <tr>\n",
       "      <th>ESTJ</th>\n",
       "      <td>1950</td>\n",
       "    </tr>\n",
       "    <tr>\n",
       "      <th>ESTP</th>\n",
       "      <td>4450</td>\n",
       "    </tr>\n",
       "    <tr>\n",
       "      <th>INFJ</th>\n",
       "      <td>73500</td>\n",
       "    </tr>\n",
       "    <tr>\n",
       "      <th>INFP</th>\n",
       "      <td>91600</td>\n",
       "    </tr>\n",
       "    <tr>\n",
       "      <th>INTJ</th>\n",
       "      <td>54550</td>\n",
       "    </tr>\n",
       "    <tr>\n",
       "      <th>INTP</th>\n",
       "      <td>65200</td>\n",
       "    </tr>\n",
       "    <tr>\n",
       "      <th>ISFJ</th>\n",
       "      <td>8300</td>\n",
       "    </tr>\n",
       "    <tr>\n",
       "      <th>ISFP</th>\n",
       "      <td>13550</td>\n",
       "    </tr>\n",
       "    <tr>\n",
       "      <th>ISTJ</th>\n",
       "      <td>10250</td>\n",
       "    </tr>\n",
       "    <tr>\n",
       "      <th>ISTP</th>\n",
       "      <td>16850</td>\n",
       "    </tr>\n",
       "  </tbody>\n",
       "</table>\n",
       "</div>"
      ],
      "text/plain": [
       "      posts\n",
       "type       \n",
       "ENFJ   9500\n",
       "ENFP  33750\n",
       "ENTJ  11550\n",
       "ENTP  34250\n",
       "ESFJ   2100\n",
       "ESFP   2400\n",
       "ESTJ   1950\n",
       "ESTP   4450\n",
       "INFJ  73500\n",
       "INFP  91600\n",
       "INTJ  54550\n",
       "INTP  65200\n",
       "ISFJ   8300\n",
       "ISFP  13550\n",
       "ISTJ  10250\n",
       "ISTP  16850"
      ]
     },
     "execution_count": 32,
     "metadata": {},
     "output_type": "execute_result"
    }
   ],
   "source": [
    "total_post"
   ]
  },
  {
   "cell_type": "code",
   "execution_count": 50,
   "id": "522e42ce",
   "metadata": {},
   "outputs": [
    {
     "data": {
      "text/plain": [
       "Text(0.5, 1.0, 'Total posts for each personality type')"
      ]
     },
     "execution_count": 50,
     "metadata": {},
     "output_type": "execute_result"
    },
    {
     "data": {
      "image/png": "[encoded data removed]",
      "text/plain": [
       "<Figure size 864x432 with 1 Axes>"
      ]
     },
     "metadata": {
      "needs_background": "light"
     },
     "output_type": "display_data"
    }
   ],
   "source": [
    "# graphs\n",
    "w=12\n",
    "h=6\n",
    "plt.figure(figsize=(w,h))\n",
    "sns.barplot(x=np.array(total_post.index), y=total_post['posts'], alpha=0.8)\n",
    "plt.xlabel('Personality types', size = 12)\n",
    "plt.ylabel('Number of posts available', size = 12)\n",
    "plt.title('Total posts for each personality type')"
   ]
  },
  {
   "cell_type": "code",
   "execution_count": 39,
   "id": "231c0a72",
   "metadata": {},
   "outputs": [],
   "source": [
    "type_cnt = dataset['type'].value_counts()"
   ]
  },
  {
   "cell_type": "code",
   "execution_count": 40,
   "id": "2f6e0120",
   "metadata": {},
   "outputs": [
    {
     "data": {
      "text/plain": [
       "INFP    1832\n",
       "INFJ    1470\n",
       "INTP    1304\n",
       "INTJ    1091\n",
       "ENTP     685\n",
       "ENFP     675\n",
       "ISTP     337\n",
       "ISFP     271\n",
       "ENTJ     231\n",
       "ISTJ     205\n",
       "ENFJ     190\n",
       "ISFJ     166\n",
       "ESTP      89\n",
       "ESFP      48\n",
       "ESFJ      42\n",
       "ESTJ      39\n",
       "Name: type, dtype: int64"
      ]
     },
     "execution_count": 40,
     "metadata": {},
     "output_type": "execute_result"
    }
   ],
   "source": [
    "type_cnt"
   ]
  },
  {
   "cell_type": "code",
   "execution_count": 45,
   "id": "0b26352a",
   "metadata": {},
   "outputs": [
    {
     "data": {
      "image/png": "[encoded data removed]",
      "text/plain": [
       "<Figure size 864x288 with 1 Axes>"
      ]
     },
     "metadata": {
      "needs_background": "light"
     },
     "output_type": "display_data"
    }
   ],
   "source": [
    "plt.figure(figsize=(12,4))\n",
    "sns.barplot(x=type_cnt.index, y=type_cnt.values, alpha=0.8)\n",
    "plt.ylabel('Number of Occurrences', fontsize=12)\n",
    "plt.xlabel('Types', fontsize=12)\n",
    "plt.show()"
   ]
  },
  {
   "cell_type": "code",
   "execution_count": 24,
   "id": "b75a0f0a",
   "metadata": {},
   "outputs": [],
   "source": [
    "from bs4 import BeautifulSoup\n",
    "import re"
   ]
  },
  {
   "cell_type": "code",
   "execution_count": 121,
   "id": "2129708f",
   "metadata": {},
   "outputs": [],
   "source": [
    "#function to clean data\n",
    "def clean_text(text):\n",
    "    #get rid of html and seperators\n",
    "    #text = BeautifulSoup(text, \"xml\").text\n",
    "    text = re.sub(r'\\|\\|\\|', r'  ', text) \n",
    "    text = re.sub(r'http\\S+', r'  ', text)\n",
    "    #get rid of punctuation\n",
    "    text = text.replace('.', '  ')\n",
    "    translator = str.maketrans('', '', string.punctuation)\n",
    "    text = text.translate(translator)\n",
    "    #get rid of numbers\n",
    "    text = ''.join(i for i in text if not i.isdigit())\n",
    "    return text\n"
   ]
  },
  {
   "cell_type": "code",
   "execution_count": 122,
   "id": "89ab3db2",
   "metadata": {},
   "outputs": [],
   "source": [
    "dataset['clean_posts'] = dataset['posts'].apply(clean_text)"
   ]
  },
  {
   "cell_type": "code",
   "execution_count": 123,
   "id": "99a75cff",
   "metadata": {},
   "outputs": [
    {
     "data": {
      "text/plain": [
       "'Im finding the lack of me in these posts very alarming    Sex can be boring if its in the same position often   For example me and my girlfriend are currently in an environment where we have to creatively use cowgirl and missionary   There isnt enough        Giving new meaning to Game theory    Hello ENTP Grin  Thats all it takes   Than we converse and they do most of the flirting while I acknowledge their presence and return their words with smooth wordplay and more cheeky grins    This  Lack of Balance and Hand Eye Coordination    Real IQ test I score    Internet IQ tests are funny   I score s or higher    Now like the former responses of this thread I will mention that I dont believe in the IQ test   Before you banish        You know youre an ENTP when you vanish from a site for a year and a half return and find people are still commenting on your posts and liking your ideasthoughts   You know youre an ENTP when you                I over think things sometimes   I go by the old Sherlock Holmes quote    Perhaps when a man has special knowledge and special powers like my  own it rather encourages him to seek a complex        cheshirewolf  tumblr  com  So is I D    post  Not really Ive never thought of EI or JP as real functions    I judge myself on what I use   I use Ne and Ti as my dominates   Fe for emotions and rarely Si   I also use Ni due to me strength        You know though   That was ingenious   After saying it I really want to try it and see what happens with me playing a first person shooter in the back while we drive around   I want to see the look on        out of all of them the rock paper one is the best   It makes me lol    You guys are lucky D Im really high up on the tumblr system    So did you hear about that new first person shooter game Ive been rocking the hell out of the soundtrack on my auto sound equipment that will shake the heavens   We managed to put a couple PSs in        No The way he connected things was very Ne   Ne dominates are just as aware of their environments as Se dominates    Example Shawn Spencer or Patrick Jane Both ENTPs    Well charlie I will be the first to admit I do get jealous like you do   I chalk it up to my w heart mixed with my dominate w   s and s both like to be noticed   s like to be known not the same        D Ill upload the same clip with the mic away from my mouth   Than you wont hear anything    Ninja Assassin style but with splatter    Tik Tok is a really great song   As long as you can mental block out the singer   I love the beat it makes me bounce    drop  io vswck  D Mic really close to my mouth and smokin aces assassins ball playing in the background    Sociable  extrovert Im an extrovert and Im not sociable     Sherlock in the movie was an ENTP   Normally hes played as a EXTJ   In the books hes an ESTJ    As I said   The movie looked good except for it being called sherlock holmes        Oh I never had fear of kissing a guy   I will kiss an animal too   So there was nothing to vanish   Just personal taste and me not liking it    The guy I kissed didnt know me   It was one of those        Sounds pretty much like my area and what Im going through right now trying to figure out which way I want to take my life   I want to do so many things   The biggest problem is that I know if I dont        D I was operating under the impression that you were female   I never looked at your boxy   Okay I help out my gay friends all the time and one of them has developed a little crush on me   I get red        TT You just described me  and Im living the worst nightmare   Im trapped in one place with one one around   Only dull woods   If I was a serial killer this would be the perfect place but sadly Im        TBH and biased sounds like a shadowed INFP   I think maybe he was hurt and turned ESTJ   I can tell because he has some of the typical INFP traits left over    Checks list Im sorry   It seems that you have came at a bad time   Weve already reached our quota of INFJs   However being youre female and I like females I will make you a deal   I will kick one        Im ANTP Leaning toward E   Im easy for both ENTPs and INTPs to identify with     I also imagine ENTPs interrogations would go a little bit like Jacks from  except more mechanical   Rigging up shock treatment equipment in an abandoned building out of an old car batty jumper        It was a compliment  Trust me   Im just as psychopathic D except I have emoticons   Theyre just weird ones   Like laughing when I get hurt or at people running themselves over with their lawn mower               No   Its like a theme for where I live and that is why I know it by heart         and I usual dont leave until the thing ends   But in the mean time   In between times   You work your thing   Ill work mine D  D Im the MBP Pleasure to meet you    Damn need to trust my instincts more I would have been closer I was going to say INFP    EXFP Leaning toward S with the way she responded    D My friends even my gay and lesbian ones always come to me for advice    I bow to my entp masters ENTPs are so great   If it wasnt for ENTPs I wouldnt have been able to build what Im building  Duck Duck  Duck  Shotgun  What Me I never do that        Because its hard to be sad about losing someone you like when you knew you were right and give yourself a big pat on the back because youre awesome and always correct    Oh you dont have to tell me that most of them are stupid   I know this   That is why I play with them and it makes me laugh   D As Im going to take Neuropsychology and I have a few psychologist        D Im a Nightowl   I wake up between pm and stay awake till am    Personal opinion backed by theory would suggest that INTPs are the most socially difficult   While INTJs can be socially indifferent but they will also use social situations if the the need arises          Personal stocks that I have on my desktop that Ive downloaded from random stock sites and stock photobuckets    Ill tell you when I open photoshop     Glad you like it static    D Thanks           Made for a friend   Several hours of work   I constructed every line by         Static     Ill have to get to your avatar later if one of my fellow teammates doesnt    Psychologist dont keep me around long enough to diagnosis me   I like to toy with them   What I have diagnosis myself with and had a few psychologist friends  a few other friends tell me I have is      '"
      ]
     },
     "execution_count": 123,
     "metadata": {},
     "output_type": "execute_result"
    }
   ],
   "source": [
    "dataset['clean_posts'][1]"
   ]
  },
  {
   "cell_type": "code",
   "execution_count": 129,
   "id": "110aecf2",
   "metadata": {},
   "outputs": [],
   "source": [
    "from nltk.stem.snowball import PorterStemmer\n",
    "\n",
    "def stem_text(txt):\n",
    "#     stemmer = SnowballStemmer('english')\n",
    "    stemmer = PorterStemmer()\n",
    "    words_list = txt.split()\n",
    "    new_list = []\n",
    "    for w in words_list:\n",
    "        word = stemmer.stem(w)\n",
    "        new_list.append(word)\n",
    "    words = new_list\n",
    "    words = \" \".join(words)\n",
    "    return words"
   ]
  },
  {
   "cell_type": "code",
   "execution_count": 130,
   "id": "3f0960ac",
   "metadata": {},
   "outputs": [],
   "source": [
    "dataset['clean_posts'] =  dataset['clean_posts'].apply(stem_text)"
   ]
  },
  {
   "cell_type": "code",
   "execution_count": 131,
   "id": "0ce9a270",
   "metadata": {},
   "outputs": [
    {
     "data": {
      "text/plain": [
       "'Im find the lack of me in these post veri alarm sex can be bore if it in the same posit often for exampl me and my girlfriend are current in an environ where we have to creativ use cowgirl and missionari there isnt enough give new mean to game theori hello entp grin that all it take than we convers and they do most of the flirt while I acknowledg their presenc and return their word with smooth wordplay and more cheeki grin thi lack of balanc and hand eye coordin real IQ test I score internet IQ test are funni I score s or higher now like the former respons of thi thread I will mention that I dont believ in the IQ test befor you banish you know your an entp when you vanish from a site for a year and a half return and find peopl are still comment on your post and like your ideasthought you know your an entp when you I over think thing sometim I go by the old sherlock holm quot perhap when a man ha special knowledg and special power like my own it rather encourag him to seek a complex cheshirewolf tumblr com So is I D post not realli ive never thought of EI or JP as real function I judg myself on what I use I use Ne and Ti as my domin Fe for emot and rare Si I also use Ni due to me strength you know though that wa ingeni after say it I realli want to tri it and see what happen with me play a first person shooter in the back while we drive around I want to see the look on out of all of them the rock paper one is the best It make me lol you guy are lucki D Im realli high up on the tumblr system So did you hear about that new first person shooter game ive been rock the hell out of the soundtrack on my auto sound equip that will shake the heaven We manag to put a coupl pss in No the way he connect thing wa veri Ne Ne domin are just as awar of their environ as Se domin exampl shawn spencer or patrick jane both entp well charli I will be the first to admit I do get jealou like you do I chalk it up to my w heart mix with my domin w s and s both like to be notic s like to be known not the same D ill upload the same clip with the mic away from my mouth than you wont hear anyth ninja assassin style but with splatter tik tok is a realli great song As long as you can mental block out the singer I love the beat it make me bounc drop io vswck D mic realli close to my mouth and smokin ace assassin ball play in the background sociabl extrovert Im an extrovert and Im not sociabl sherlock in the movi wa an entp normal he play as a extj In the book he an estj As I said the movi look good except for it be call sherlock holm Oh I never had fear of kiss a guy I will kiss an anim too So there wa noth to vanish just person tast and me not like it the guy I kiss didnt know me It wa one of those sound pretti much like my area and what Im go through right now tri to figur out which way I want to take my life I want to do so mani thing the biggest problem is that I know if I dont D I wa oper under the impress that you were femal I never look at your boxi okay I help out my gay friend all the time and one of them ha develop a littl crush on me I get red TT you just describ me and Im live the worst nightmar Im trap in one place with one one around onli dull wood If I wa a serial killer thi would be the perfect place but sadli Im tbh and bias sound like a shadow infp I think mayb he wa hurt and turn estj I can tell becaus he ha some of the typic infp trait left over check list Im sorri It seem that you have came at a bad time weve alreadi reach our quota of infj howev be your femal and I like femal I will make you a deal I will kick one Im antp lean toward E Im easi for both entp and intp to identifi with I also imagin entp interrog would go a littl bit like jack from except more mechan rig up shock treatment equip in an abandon build out of an old car batti jumper It wa a compliment trust me Im just as psychopath D except I have emoticon theyr just weird one like laugh when I get hurt or at peopl run themselv over with their lawn mower No it like a theme for where I live and that is whi I know it by heart and I usual dont leav until the thing end but in the mean time In between time you work your thing ill work mine D D Im the mbp pleasur to meet you damn need to trust my instinct more I would have been closer I wa go to say infp exfp lean toward S with the way she respond D My friend even my gay and lesbian one alway come to me for advic I bow to my entp master entp are so great If it wasnt for entp I wouldnt have been abl to build what Im build duck duck duck shotgun what Me I never do that becaus it hard to be sad about lose someon you like when you knew you were right and give yourself a big pat on the back becaus your awesom and alway correct Oh you dont have to tell me that most of them are stupid I know thi that is whi I play with them and it make me laugh D As Im go to take neuropsycholog and I have a few psychologist D Im a nightowl I wake up between pm and stay awak till am person opinion back by theori would suggest that intp are the most social difficult while intj can be social indiffer but they will also use social situat if the the need aris person stock that I have on my desktop that ive download from random stock site and stock photobucket ill tell you when I open photoshop glad you like it static D thank made for a friend sever hour of work I construct everi line by static ill have to get to your avatar later if one of my fellow teammat doesnt psychologist dont keep me around long enough to diagnosi me I like to toy with them what I have diagnosi myself with and had a few psychologist friend a few other friend tell me I have is'"
      ]
     },
     "execution_count": 131,
     "metadata": {},
     "output_type": "execute_result"
    }
   ],
   "source": [
    "dataset['clean_posts'][1]"
   ]
  },
  {
   "cell_type": "code",
   "execution_count": 125,
   "id": "0e3f6728",
   "metadata": {},
   "outputs": [],
   "source": [
    "from sklearn.feature_extraction.text import TfidfVectorizer, CountVectorizer\n",
    "from sklearn.model_selection import StratifiedKFold\n",
    "from sklearn.pipeline import Pipeline\n",
    "from sklearn.naive_bayes import MultinomialNB\n",
    "from sklearn.model_selection import cross_validate\n",
    "np.random.seed(1)\n",
    "\n",
    "# tfidf = TfidfVectorizer(ngram_range=(1, 1), stop_words='english')\n",
    "tfidf2 = CountVectorizer(ngram_range=(1, 1), \n",
    "                         stop_words='english',\n",
    "                         lowercase = True, \n",
    "                         max_features = 5000)\n",
    "kfolds = StratifiedKFold(n_splits=5, shuffle=True, random_state=1)\n",
    "scoring = {'acc': 'accuracy'}\n",
    "model_nb = Pipeline([('tfidf1', tfidf2), ('nb', MultinomialNB())])\n",
    "\n",
    "results_nb = cross_validate(model_nb, dataset['clean_posts'], dataset['type'], cv=kfolds, \n",
    "                          scoring=scoring, n_jobs=-1)\n",
    "\n"
   ]
  },
  {
   "cell_type": "code",
   "execution_count": 126,
   "id": "1f6d2625",
   "metadata": {},
   "outputs": [
    {
     "name": "stdout",
     "output_type": "stream",
     "text": [
      "Accuracy: 0.5639 (+/- 0.0131)\n"
     ]
    }
   ],
   "source": [
    "print(\"Accuracy: {:0.4f} (+/- {:0.4f})\".format(np.mean(results_nb['test_acc']),np.std(results_nb['test_acc'])))"
   ]
  },
  {
   "cell_type": "code",
   "execution_count": null,
   "id": "d73fc9bd",
   "metadata": {},
   "outputs": [],
   "source": [
    "model_nb.fit(dataset['clean_posts'], dataset['type'])"
   ]
  },
  {
   "cell_type": "code",
   "execution_count": 127,
   "id": "2515303a",
   "metadata": {},
   "outputs": [
    {
     "ename": "NotFittedError",
     "evalue": "Vocabulary not fitted or provided",
     "output_type": "error",
     "traceback": [
      "\u001b[0;31m---------------------------------------------------------------------------\u001b[0m",
      "\u001b[0;31mNotFittedError\u001b[0m                            Traceback (most recent call last)",
      "Input \u001b[0;32mIn [127]\u001b[0m, in \u001b[0;36m<cell line: 1>\u001b[0;34m()\u001b[0m\n\u001b[0;32m----> 1\u001b[0m \u001b[43mmodel_nb\u001b[49m\u001b[38;5;241;43m.\u001b[39;49m\u001b[43mpredict\u001b[49m\u001b[43m(\u001b[49m\u001b[43m[\u001b[49m\u001b[38;5;124;43m'\u001b[39;49m\u001b[38;5;124;43m'\u001b[39;49m\u001b[43m]\u001b[49m\u001b[43m)\u001b[49m\n",
      "File \u001b[0;32m~/.local/lib/python3.8/site-packages/sklearn/pipeline.py:481\u001b[0m, in \u001b[0;36mPipeline.predict\u001b[0;34m(self, X, **predict_params)\u001b[0m\n\u001b[1;32m    479\u001b[0m Xt \u001b[38;5;241m=\u001b[39m X\n\u001b[1;32m    480\u001b[0m \u001b[38;5;28;01mfor\u001b[39;00m _, name, transform \u001b[38;5;129;01min\u001b[39;00m \u001b[38;5;28mself\u001b[39m\u001b[38;5;241m.\u001b[39m_iter(with_final\u001b[38;5;241m=\u001b[39m\u001b[38;5;28;01mFalse\u001b[39;00m):\n\u001b[0;32m--> 481\u001b[0m     Xt \u001b[38;5;241m=\u001b[39m \u001b[43mtransform\u001b[49m\u001b[38;5;241;43m.\u001b[39;49m\u001b[43mtransform\u001b[49m\u001b[43m(\u001b[49m\u001b[43mXt\u001b[49m\u001b[43m)\u001b[49m\n\u001b[1;32m    482\u001b[0m \u001b[38;5;28;01mreturn\u001b[39;00m \u001b[38;5;28mself\u001b[39m\u001b[38;5;241m.\u001b[39msteps[\u001b[38;5;241m-\u001b[39m\u001b[38;5;241m1\u001b[39m][\u001b[38;5;241m1\u001b[39m]\u001b[38;5;241m.\u001b[39mpredict(Xt, \u001b[38;5;241m*\u001b[39m\u001b[38;5;241m*\u001b[39mpredict_params)\n",
      "File \u001b[0;32m~/.local/lib/python3.8/site-packages/sklearn/feature_extraction/text.py:1419\u001b[0m, in \u001b[0;36mCountVectorizer.transform\u001b[0;34m(self, raw_documents)\u001b[0m\n\u001b[1;32m   1415\u001b[0m \u001b[38;5;28;01mif\u001b[39;00m \u001b[38;5;28misinstance\u001b[39m(raw_documents, \u001b[38;5;28mstr\u001b[39m):\n\u001b[1;32m   1416\u001b[0m     \u001b[38;5;28;01mraise\u001b[39;00m \u001b[38;5;167;01mValueError\u001b[39;00m(\n\u001b[1;32m   1417\u001b[0m         \u001b[38;5;124m\"\u001b[39m\u001b[38;5;124mIterable over raw text documents expected, string object received.\u001b[39m\u001b[38;5;124m\"\u001b[39m\n\u001b[1;32m   1418\u001b[0m     )\n\u001b[0;32m-> 1419\u001b[0m \u001b[38;5;28;43mself\u001b[39;49m\u001b[38;5;241;43m.\u001b[39;49m\u001b[43m_check_vocabulary\u001b[49m\u001b[43m(\u001b[49m\u001b[43m)\u001b[49m\n\u001b[1;32m   1421\u001b[0m \u001b[38;5;66;03m# use the same matrix-building strategy as fit_transform\u001b[39;00m\n\u001b[1;32m   1422\u001b[0m _, X \u001b[38;5;241m=\u001b[39m \u001b[38;5;28mself\u001b[39m\u001b[38;5;241m.\u001b[39m_count_vocab(raw_documents, fixed_vocab\u001b[38;5;241m=\u001b[39m\u001b[38;5;28;01mTrue\u001b[39;00m)\n",
      "File \u001b[0;32m~/.local/lib/python3.8/site-packages/sklearn/feature_extraction/text.py:510\u001b[0m, in \u001b[0;36m_VectorizerMixin._check_vocabulary\u001b[0;34m(self)\u001b[0m\n\u001b[1;32m    508\u001b[0m     \u001b[38;5;28mself\u001b[39m\u001b[38;5;241m.\u001b[39m_validate_vocabulary()\n\u001b[1;32m    509\u001b[0m     \u001b[38;5;28;01mif\u001b[39;00m \u001b[38;5;129;01mnot\u001b[39;00m \u001b[38;5;28mself\u001b[39m\u001b[38;5;241m.\u001b[39mfixed_vocabulary_:\n\u001b[0;32m--> 510\u001b[0m         \u001b[38;5;28;01mraise\u001b[39;00m NotFittedError(\u001b[38;5;124m\"\u001b[39m\u001b[38;5;124mVocabulary not fitted or provided\u001b[39m\u001b[38;5;124m\"\u001b[39m)\n\u001b[1;32m    512\u001b[0m \u001b[38;5;28;01mif\u001b[39;00m \u001b[38;5;28mlen\u001b[39m(\u001b[38;5;28mself\u001b[39m\u001b[38;5;241m.\u001b[39mvocabulary_) \u001b[38;5;241m==\u001b[39m \u001b[38;5;241m0\u001b[39m:\n\u001b[1;32m    513\u001b[0m     \u001b[38;5;28;01mraise\u001b[39;00m \u001b[38;5;167;01mValueError\u001b[39;00m(\u001b[38;5;124m\"\u001b[39m\u001b[38;5;124mVocabulary is empty\u001b[39m\u001b[38;5;124m\"\u001b[39m)\n",
      "\u001b[0;31mNotFittedError\u001b[0m: Vocabulary not fitted or provided"
     ]
    }
   ],
   "source": [
    "model_nb.predict([''])"
   ]
  },
  {
   "cell_type": "code",
   "execution_count": 109,
   "id": "b6a6bca7",
   "metadata": {},
   "outputs": [
    {
     "data": {
      "text/plain": [
       "array([[0.02190202, 0.0778098 , 0.02662824, 0.07896254, 0.0048415 ,\n",
       "        0.00553314, 0.00449568, 0.01025937, 0.16945245, 0.21118156,\n",
       "        0.12576369, 0.150317  , 0.01913545, 0.03123919, 0.02363112,\n",
       "        0.03884726]])"
      ]
     },
     "execution_count": 109,
     "metadata": {},
     "output_type": "execute_result"
    }
   ],
   "source": [
    "model_nb.predict_proba([''])"
   ]
  },
  {
   "cell_type": "code",
   "execution_count": 108,
   "id": "91d5195e",
   "metadata": {},
   "outputs": [],
   "source": [
    "# model_nb['nb'].classes_\n"
   ]
  },
  {
   "cell_type": "code",
   "execution_count": null,
   "id": "75788b7a",
   "metadata": {},
   "outputs": [],
   "source": []
  }
 ],
 "metadata": {
  "kernelspec": {
   "display_name": "Python 3 (ipykernel)",
   "language": "python",
   "name": "python3"
  },
  "language_info": {
   "codemirror_mode": {
    "name": "ipython",
    "version": 3
   },
   "file_extension": ".py",
   "mimetype": "text/x-python",
   "name": "python",
   "nbconvert_exporter": "python",
   "pygments_lexer": "ipython3",
   "version": "3.8.10"
  }
 },
 "nbformat": 4,
 "nbformat_minor": 5
}
